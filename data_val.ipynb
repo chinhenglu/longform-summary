{
 "cells": [
  {
   "cell_type": "markdown",
   "id": "53f8e63e-0406-4586-b13b-8bafe036328c",
   "metadata": {},
   "source": [
    "# Test Notebook to see the join-ability between the key data and the other datasets"
   ]
  },
  {
   "cell_type": "code",
   "execution_count": 1,
   "id": "706d1529-9128-4748-8742-8ba51abe909f",
   "metadata": {},
   "outputs": [],
   "source": [
    "from collections import Counter\n",
    "import pandas as pd\n",
    "import numpy as np\n",
    "# import tensorflow as tf\n",
    "# from tensorflow import keras\n",
    "\n",
    "# import seaborn as sns\n",
    "import matplotlib.pyplot as plt\n",
    "from pprint import pprint "
   ]
  },
  {
   "cell_type": "code",
   "execution_count": 2,
   "id": "3d8ddb80-5e9e-473a-ba59-8a3ea826f293",
   "metadata": {},
   "outputs": [
    {
     "name": "stdout",
     "output_type": "stream",
     "text": [
      "1.5.2\n"
     ]
    }
   ],
   "source": [
    "# Step 1: get a list of all csv files in target directory\n",
    "my_dir = \"C:\\\\Python27\\Files\\\\\"\n",
    "filelist = []\n",
    "filesList = []\n",
    "os.chdir( my_dir )"
   ]
  },
  {
   "cell_type": "code",
   "execution_count": 11,
   "id": "4814f5b4-a31c-41d0-bcfe-2c7ed67b3ae6",
   "metadata": {},
   "outputs": [],
   "source": [
    "# In [8]: import os\n",
    "\n",
    "# In [9]: os.getcwd()\n",
    "# Out[9]: '/home/rockwool'\n",
    "\n",
    "# In [10]: pwd\n",
    "# Out[10]: '/home/rockwool'\n",
    "\n",
    "import os\n",
    "import glob"
   ]
  },
  {
   "cell_type": "code",
   "execution_count": 4,
   "id": "7b9e7400-dc64-47b7-b0c4-659ae9c53ae0",
   "metadata": {},
   "outputs": [
    {
     "data": {
      "text/plain": [
       "'/Users/harryl/Desktop/ucb/ds266/final_project_data'"
      ]
     },
     "execution_count": 4,
     "metadata": {},
     "output_type": "execute_result"
    }
   ],
   "source": [
    "os.getcwd()"
   ]
  },
  {
   "cell_type": "code",
   "execution_count": null,
   "id": "42636ac7-044f-4c54-8360-6d09bccc4432",
   "metadata": {},
   "outputs": [],
   "source": [
    "my_dir = '/Users/harryl/Desktop/ucb/ds266/final_project_data'\n",
    "filelist = []\n",
    "filesList = []\n",
    "os.chdir( my_dir )"
   ]
  },
  {
   "cell_type": "code",
   "execution_count": 5,
   "id": "88ca2ce0-7af7-4276-aa90-26bd805d4242",
   "metadata": {},
   "outputs": [
    {
     "data": {
      "text/plain": [
       "(34886, 8)"
      ]
     },
     "execution_count": 5,
     "metadata": {},
     "output_type": "execute_result"
    }
   ],
   "source": [
    "adf = pd.read_csv('wiki_movie_plots_deduped.csv')\n",
    "adf.shape"
   ]
  },
  {
   "cell_type": "code",
   "execution_count": 6,
   "id": "689733f8-3736-4b64-a7b6-8afd0452c0d5",
   "metadata": {},
   "outputs": [
    {
     "data": {
      "text/html": [
       "<div>\n",
       "<style scoped>\n",
       "    .dataframe tbody tr th:only-of-type {\n",
       "        vertical-align: middle;\n",
       "    }\n",
       "\n",
       "    .dataframe tbody tr th {\n",
       "        vertical-align: top;\n",
       "    }\n",
       "\n",
       "    .dataframe thead th {\n",
       "        text-align: right;\n",
       "    }\n",
       "</style>\n",
       "<table border=\"1\" class=\"dataframe\">\n",
       "  <thead>\n",
       "    <tr style=\"text-align: right;\">\n",
       "      <th></th>\n",
       "      <th>Release Year</th>\n",
       "      <th>Title</th>\n",
       "      <th>Origin/Ethnicity</th>\n",
       "      <th>Director</th>\n",
       "      <th>Cast</th>\n",
       "      <th>Genre</th>\n",
       "      <th>Wiki Page</th>\n",
       "      <th>Plot</th>\n",
       "    </tr>\n",
       "  </thead>\n",
       "  <tbody>\n",
       "    <tr>\n",
       "      <th>2737</th>\n",
       "      <td>1940</td>\n",
       "      <td>Barnyard Follies</td>\n",
       "      <td>American</td>\n",
       "      <td>Frank McDonald</td>\n",
       "      <td>Mary Lee, Harry Cheshire, Rufe Davis, June Sto...</td>\n",
       "      <td>musical</td>\n",
       "      <td>https://en.wikipedia.org/wiki/Barnyard_Follies</td>\n",
       "      <td>Pappy Cheshire, his assistant Louise Dale, and...</td>\n",
       "    </tr>\n",
       "    <tr>\n",
       "      <th>1163</th>\n",
       "      <td>1931</td>\n",
       "      <td>Men of Chance</td>\n",
       "      <td>American</td>\n",
       "      <td>George Archainbaud</td>\n",
       "      <td>Ricardo Cortez, Mary Astor, Ralph Ince</td>\n",
       "      <td>drama, crime</td>\n",
       "      <td>https://en.wikipedia.org/wiki/Men_of_Chance</td>\n",
       "      <td>A destitute Marthe Preston is in dire straits ...</td>\n",
       "    </tr>\n",
       "    <tr>\n",
       "      <th>26020</th>\n",
       "      <td>1999</td>\n",
       "      <td>Vaastav: The Reality</td>\n",
       "      <td>Bollywood</td>\n",
       "      <td>Mahesh Manjrekar</td>\n",
       "      <td>Sanjay Dutt, Namrata Shirodkar</td>\n",
       "      <td>crime, drama</td>\n",
       "      <td>https://en.wikipedia.org/wiki/Vaastav:_The_Rea...</td>\n",
       "      <td>Vaastav opens with a family performing the fun...</td>\n",
       "    </tr>\n",
       "    <tr>\n",
       "      <th>18167</th>\n",
       "      <td>1931</td>\n",
       "      <td>The Man They Couldn't Arrest</td>\n",
       "      <td>British</td>\n",
       "      <td>T. Hayes Hunter</td>\n",
       "      <td>Hugh Wakefield, Gordon Harker</td>\n",
       "      <td>drama</td>\n",
       "      <td>https://en.wikipedia.org/wiki/The_Man_They_Cou...</td>\n",
       "      <td>An amateur detective goes on the trail of a ga...</td>\n",
       "    </tr>\n",
       "    <tr>\n",
       "      <th>32199</th>\n",
       "      <td>2004</td>\n",
       "      <td>Cheppave Chirugali</td>\n",
       "      <td>Telugu</td>\n",
       "      <td>Vikraman</td>\n",
       "      <td>Venu Thottempudi, Ashima Bhalla, Abhirami, Kir...</td>\n",
       "      <td>romance</td>\n",
       "      <td>https://en.wikipedia.org/wiki/Cheppave_Chirugali</td>\n",
       "      <td>Venu (Venu Thottempudi) is a receptionist at a...</td>\n",
       "    </tr>\n",
       "  </tbody>\n",
       "</table>\n",
       "</div>"
      ],
      "text/plain": [
       "       Release Year                         Title Origin/Ethnicity  \\\n",
       "2737           1940              Barnyard Follies         American   \n",
       "1163           1931                 Men of Chance         American   \n",
       "26020          1999          Vaastav: The Reality        Bollywood   \n",
       "18167          1931  The Man They Couldn't Arrest          British   \n",
       "32199          2004            Cheppave Chirugali           Telugu   \n",
       "\n",
       "                 Director                                               Cast  \\\n",
       "2737       Frank McDonald  Mary Lee, Harry Cheshire, Rufe Davis, June Sto...   \n",
       "1163   George Archainbaud             Ricardo Cortez, Mary Astor, Ralph Ince   \n",
       "26020    Mahesh Manjrekar                     Sanjay Dutt, Namrata Shirodkar   \n",
       "18167     T. Hayes Hunter                      Hugh Wakefield, Gordon Harker   \n",
       "32199            Vikraman  Venu Thottempudi, Ashima Bhalla, Abhirami, Kir...   \n",
       "\n",
       "              Genre                                          Wiki Page  \\\n",
       "2737        musical     https://en.wikipedia.org/wiki/Barnyard_Follies   \n",
       "1163   drama, crime        https://en.wikipedia.org/wiki/Men_of_Chance   \n",
       "26020  crime, drama  https://en.wikipedia.org/wiki/Vaastav:_The_Rea...   \n",
       "18167         drama  https://en.wikipedia.org/wiki/The_Man_They_Cou...   \n",
       "32199       romance   https://en.wikipedia.org/wiki/Cheppave_Chirugali   \n",
       "\n",
       "                                                    Plot  \n",
       "2737   Pappy Cheshire, his assistant Louise Dale, and...  \n",
       "1163   A destitute Marthe Preston is in dire straits ...  \n",
       "26020  Vaastav opens with a family performing the fun...  \n",
       "18167  An amateur detective goes on the trail of a ga...  \n",
       "32199  Venu (Venu Thottempudi) is a receptionist at a...  "
      ]
     },
     "execution_count": 6,
     "metadata": {},
     "output_type": "execute_result"
    }
   ],
   "source": [
    "adf.sample(5)"
   ]
  },
  {
   "cell_type": "code",
   "execution_count": null,
   "id": "a10d244a-7625-4489-9692-c95297c0bbbb",
   "metadata": {},
   "outputs": [],
   "source": [
    "# ucb/ds266/final_project_data/archive/screenplay_data/data/BERT_annotations/BERT_annotations"
   ]
  },
  {
   "cell_type": "code",
   "execution_count": 7,
   "id": "aef1addc-dda1-4b1d-a021-5f8b63916f5d",
   "metadata": {},
   "outputs": [],
   "source": [
    "my_dir = '/Users/harryl/Desktop/ucb/ds266/final_project_data/archive/screenplay_data/data/BERT_annotations/BERT_annotations'\n",
    "filelist = []\n",
    "filesList = []\n",
    "os.chdir( my_dir )"
   ]
  },
  {
   "cell_type": "code",
   "execution_count": 15,
   "id": "b6833b5b-b397-40f4-924d-82deee676633",
   "metadata": {},
   "outputs": [
    {
     "data": {
      "text/plain": [
       "['Bringing Up Baby_0029947_anno',\n",
       " 'Pet Sematary_0837563_anno',\n",
       " 'Friday the 13th_0758746_anno',\n",
       " 'Bad Teacher_1284575_anno',\n",
       " 'The Equalizer_0455944_anno']"
      ]
     },
     "execution_count": 15,
     "metadata": {},
     "output_type": "execute_result"
    }
   ],
   "source": [
    "filelist[:5]"
   ]
  },
  {
   "cell_type": "code",
   "execution_count": 14,
   "id": "6f921a86-2921-4a3b-a0a7-13bcd2eddad2",
   "metadata": {},
   "outputs": [
    {
     "data": {
      "text/plain": [
       "['Bringing Up Baby_0029947_anno.txt',\n",
       " 'Pet Sematary_0837563_anno.txt',\n",
       " 'Friday the 13th_0758746_anno.txt',\n",
       " 'Bad Teacher_1284575_anno.txt',\n",
       " 'The Equalizer_0455944_anno.txt']"
      ]
     },
     "execution_count": 14,
     "metadata": {},
     "output_type": "execute_result"
    }
   ],
   "source": [
    "filesList[:5]"
   ]
  },
  {
   "cell_type": "code",
   "execution_count": 12,
   "id": "7015f8fe-f999-46de-8ec3-05ac9aaac8c9",
   "metadata": {},
   "outputs": [],
   "source": [
    "# Step 2: Build up list of files:\n",
    "for files in glob.glob(\"*.txt\"):\n",
    "    fileName, fileExtension = os.path.splitext(files)\n",
    "    filelist.append(fileName) #filename without extension\n",
    "    filesList.append(files) #filename with extension"
   ]
  },
  {
   "cell_type": "code",
   "execution_count": null,
   "id": "8ff7c7c8-d283-43de-a973-f8c1eb8d599d",
   "metadata": {},
   "outputs": [],
   "source": []
  }
 ],
 "metadata": {
  "kernelspec": {
   "display_name": "w207",
   "language": "python",
   "name": "w207"
  },
  "language_info": {
   "codemirror_mode": {
    "name": "ipython",
    "version": 3
   },
   "file_extension": ".py",
   "mimetype": "text/x-python",
   "name": "python",
   "nbconvert_exporter": "python",
   "pygments_lexer": "ipython3",
   "version": "3.10.8"
  }
 },
 "nbformat": 4,
 "nbformat_minor": 5
}
