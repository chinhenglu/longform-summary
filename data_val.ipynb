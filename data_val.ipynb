{
 "cells": [
  {
   "cell_type": "markdown",
   "id": "53f8e63e-0406-4586-b13b-8bafe036328c",
   "metadata": {},
   "source": [
    "# Test Notebook to see the join-ability between the key data and the other datasets"
   ]
  },
  {
   "cell_type": "code",
   "execution_count": 1,
   "id": "706d1529-9128-4748-8742-8ba51abe909f",
   "metadata": {},
   "outputs": [],
   "source": [
    "from collections import Counter\n",
    "import pandas as pd\n",
    "import numpy as np\n",
    "# import tensorflow as tf\n",
    "# from tensorflow import keras\n",
    "\n",
    "# import seaborn as sns\n",
    "import matplotlib.pyplot as plt\n",
    "from pprint import pprint "
   ]
  },
  {
   "cell_type": "code",
   "execution_count": 2,
   "id": "3d8ddb80-5e9e-473a-ba59-8a3ea826f293",
   "metadata": {},
   "outputs": [],
   "source": [
    "# # Step 1: get a list of all csv files in target directory\n",
    "# my_dir = \"C:\\\\Python27\\Files\\\\\"\n",
    "# filelist = []\n",
    "# filesList = []\n",
    "# os.chdir( my_dir )"
   ]
  },
  {
   "cell_type": "code",
   "execution_count": 3,
   "id": "4814f5b4-a31c-41d0-bcfe-2c7ed67b3ae6",
   "metadata": {},
   "outputs": [],
   "source": [
    "# In [8]: import os\n",
    "\n",
    "# In [9]: os.getcwd()\n",
    "# Out[9]: '/home/rockwool'\n",
    "\n",
    "# In [10]: pwd\n",
    "# Out[10]: '/home/rockwool'\n",
    "\n",
    "import os\n",
    "import glob"
   ]
  },
  {
   "cell_type": "code",
   "execution_count": 4,
   "id": "7b9e7400-dc64-47b7-b0c4-659ae9c53ae0",
   "metadata": {},
   "outputs": [
    {
     "data": {
      "text/plain": [
       "'/Users/harryl/Desktop/ucb/ds266/longform-summary'"
      ]
     },
     "execution_count": 4,
     "metadata": {},
     "output_type": "execute_result"
    }
   ],
   "source": [
    "os.getcwd()"
   ]
  },
  {
   "cell_type": "code",
   "execution_count": 5,
   "id": "42636ac7-044f-4c54-8360-6d09bccc4432",
   "metadata": {},
   "outputs": [],
   "source": [
    "my_dir = '/Users/harryl/Desktop/ucb/ds266/longform-summary'\n",
    "filelist = []\n",
    "filesList = []\n",
    "os.chdir( my_dir )"
   ]
  },
  {
   "cell_type": "code",
   "execution_count": 6,
   "id": "88ca2ce0-7af7-4276-aa90-26bd805d4242",
   "metadata": {},
   "outputs": [
    {
     "data": {
      "text/plain": [
       "(34886, 8)"
      ]
     },
     "execution_count": 6,
     "metadata": {},
     "output_type": "execute_result"
    }
   ],
   "source": [
    "adf = pd.read_csv('wiki_movie_plots_deduped.csv')\n",
    "adf.shape"
   ]
  },
  {
   "cell_type": "code",
   "execution_count": 7,
   "id": "689733f8-3736-4b64-a7b6-8afd0452c0d5",
   "metadata": {},
   "outputs": [
    {
     "data": {
      "text/html": [
       "<div>\n",
       "<style scoped>\n",
       "    .dataframe tbody tr th:only-of-type {\n",
       "        vertical-align: middle;\n",
       "    }\n",
       "\n",
       "    .dataframe tbody tr th {\n",
       "        vertical-align: top;\n",
       "    }\n",
       "\n",
       "    .dataframe thead th {\n",
       "        text-align: right;\n",
       "    }\n",
       "</style>\n",
       "<table border=\"1\" class=\"dataframe\">\n",
       "  <thead>\n",
       "    <tr style=\"text-align: right;\">\n",
       "      <th></th>\n",
       "      <th>Release Year</th>\n",
       "      <th>Title</th>\n",
       "      <th>Origin/Ethnicity</th>\n",
       "      <th>Director</th>\n",
       "      <th>Cast</th>\n",
       "      <th>Genre</th>\n",
       "      <th>Wiki Page</th>\n",
       "      <th>Plot</th>\n",
       "    </tr>\n",
       "  </thead>\n",
       "  <tbody>\n",
       "    <tr>\n",
       "      <th>25278</th>\n",
       "      <td>1984</td>\n",
       "      <td>Abodh</td>\n",
       "      <td>Bollywood</td>\n",
       "      <td>Hiren Nag</td>\n",
       "      <td>Mohan Choti, Sheela David, Madhuri Dixit, Tapa...</td>\n",
       "      <td>unknown</td>\n",
       "      <td>https://en.wikipedia.org/wiki/Abodh</td>\n",
       "      <td>Naive, childish and precocious, Gauri lives in...</td>\n",
       "    </tr>\n",
       "    <tr>\n",
       "      <th>34503</th>\n",
       "      <td>2011</td>\n",
       "      <td>I Am a Dad</td>\n",
       "      <td>South_Korean</td>\n",
       "      <td>Unknown</td>\n",
       "      <td>NaN</td>\n",
       "      <td>action</td>\n",
       "      <td>https://en.wikipedia.org/wiki/I_Am_a_Dad</td>\n",
       "      <td>Han Jong-sik (Kim Seung-woo) is a corrupt dete...</td>\n",
       "    </tr>\n",
       "    <tr>\n",
       "      <th>16491</th>\n",
       "      <td>2013</td>\n",
       "      <td>Despicable Me 2</td>\n",
       "      <td>American</td>\n",
       "      <td>Chris Renaud, Pierre Coffin</td>\n",
       "      <td>Steve Carell, Kristen Wiig, Miranda Cosgrove, ...</td>\n",
       "      <td>animated, family</td>\n",
       "      <td>https://en.wikipedia.org/wiki/Despicable_Me_2</td>\n",
       "      <td>A mysterious vehicle using a huge magnet steal...</td>\n",
       "    </tr>\n",
       "    <tr>\n",
       "      <th>14527</th>\n",
       "      <td>2004</td>\n",
       "      <td>The Prince and Me</td>\n",
       "      <td>American</td>\n",
       "      <td>Martha Coolidge</td>\n",
       "      <td>Julia Stiles, Luke Mably, Ben Miller</td>\n",
       "      <td>comedy</td>\n",
       "      <td>https://en.wikipedia.org/wiki/The_Prince_and_Me</td>\n",
       "      <td>Paige Morgan (Julia Stiles) is a pre-medical s...</td>\n",
       "    </tr>\n",
       "    <tr>\n",
       "      <th>27342</th>\n",
       "      <td>2008</td>\n",
       "      <td>Gaja</td>\n",
       "      <td>Kannada</td>\n",
       "      <td>K. Madhesh</td>\n",
       "      <td>Darshan, Navya Nair</td>\n",
       "      <td>unknown</td>\n",
       "      <td>https://en.wikipedia.org/wiki/Gaja_(2008_film)</td>\n",
       "      <td>Gaja (Darshan) and Krishna are friends. Gaja g...</td>\n",
       "    </tr>\n",
       "  </tbody>\n",
       "</table>\n",
       "</div>"
      ],
      "text/plain": [
       "       Release Year              Title Origin/Ethnicity  \\\n",
       "25278          1984              Abodh        Bollywood   \n",
       "34503          2011         I Am a Dad     South_Korean   \n",
       "16491          2013    Despicable Me 2         American   \n",
       "14527          2004  The Prince and Me         American   \n",
       "27342          2008               Gaja          Kannada   \n",
       "\n",
       "                          Director  \\\n",
       "25278                    Hiren Nag   \n",
       "34503                      Unknown   \n",
       "16491  Chris Renaud, Pierre Coffin   \n",
       "14527              Martha Coolidge   \n",
       "27342                   K. Madhesh   \n",
       "\n",
       "                                                    Cast             Genre  \\\n",
       "25278  Mohan Choti, Sheela David, Madhuri Dixit, Tapa...           unknown   \n",
       "34503                                                NaN            action   \n",
       "16491  Steve Carell, Kristen Wiig, Miranda Cosgrove, ...  animated, family   \n",
       "14527               Julia Stiles, Luke Mably, Ben Miller            comedy   \n",
       "27342                                Darshan, Navya Nair           unknown   \n",
       "\n",
       "                                             Wiki Page  \\\n",
       "25278              https://en.wikipedia.org/wiki/Abodh   \n",
       "34503         https://en.wikipedia.org/wiki/I_Am_a_Dad   \n",
       "16491    https://en.wikipedia.org/wiki/Despicable_Me_2   \n",
       "14527  https://en.wikipedia.org/wiki/The_Prince_and_Me   \n",
       "27342   https://en.wikipedia.org/wiki/Gaja_(2008_film)   \n",
       "\n",
       "                                                    Plot  \n",
       "25278  Naive, childish and precocious, Gauri lives in...  \n",
       "34503  Han Jong-sik (Kim Seung-woo) is a corrupt dete...  \n",
       "16491  A mysterious vehicle using a huge magnet steal...  \n",
       "14527  Paige Morgan (Julia Stiles) is a pre-medical s...  \n",
       "27342  Gaja (Darshan) and Krishna are friends. Gaja g...  "
      ]
     },
     "execution_count": 7,
     "metadata": {},
     "output_type": "execute_result"
    }
   ],
   "source": [
    "adf.sample(5)"
   ]
  },
  {
   "cell_type": "code",
   "execution_count": null,
   "id": "a10d244a-7625-4489-9692-c95297c0bbbb",
   "metadata": {},
   "outputs": [],
   "source": [
    "# ucb/ds266/final_project_data/archive/screenplay_data/data/BERT_annotations/BERT_annotations"
   ]
  },
  {
   "cell_type": "code",
   "execution_count": 8,
   "id": "aef1addc-dda1-4b1d-a021-5f8b63916f5d",
   "metadata": {},
   "outputs": [],
   "source": [
    "my_dir = '/Users/harryl/Desktop/ucb/ds266/longform-summary/archive/screenplay_data/data/BERT_annotations/BERT_annotations'\n",
    "filelist = []\n",
    "filesList = []\n",
    "os.chdir( my_dir )"
   ]
  },
  {
   "cell_type": "code",
   "execution_count": 12,
   "id": "b6833b5b-b397-40f4-924d-82deee676633",
   "metadata": {},
   "outputs": [
    {
     "data": {
      "text/plain": [
       "['Bringing Up Baby_0029947_anno',\n",
       " 'Pet Sematary_0837563_anno',\n",
       " 'Friday the 13th_0758746_anno',\n",
       " 'Bad Teacher_1284575_anno',\n",
       " 'The Equalizer_0455944_anno']"
      ]
     },
     "execution_count": 12,
     "metadata": {},
     "output_type": "execute_result"
    }
   ],
   "source": [
    "filelist[:5]"
   ]
  },
  {
   "cell_type": "code",
   "execution_count": 13,
   "id": "6f921a86-2921-4a3b-a0a7-13bcd2eddad2",
   "metadata": {},
   "outputs": [
    {
     "data": {
      "text/plain": [
       "['Bringing Up Baby_0029947_anno.txt',\n",
       " 'Pet Sematary_0837563_anno.txt',\n",
       " 'Friday the 13th_0758746_anno.txt',\n",
       " 'Bad Teacher_1284575_anno.txt',\n",
       " 'The Equalizer_0455944_anno.txt']"
      ]
     },
     "execution_count": 13,
     "metadata": {},
     "output_type": "execute_result"
    }
   ],
   "source": [
    "filesList[:5]"
   ]
  },
  {
   "cell_type": "code",
   "execution_count": 11,
   "id": "7015f8fe-f999-46de-8ec3-05ac9aaac8c9",
   "metadata": {},
   "outputs": [],
   "source": [
    "# Step 2: Build up list of files:\n",
    "for files in glob.glob(\"*.txt\"):\n",
    "    fileName, fileExtension = os.path.splitext(files)\n",
    "    filelist.append(fileName) #filename without extension\n",
    "    filesList.append(files) #filename with extension"
   ]
  },
  {
   "cell_type": "code",
   "execution_count": null,
   "id": "8ff7c7c8-d283-43de-a973-f8c1eb8d599d",
   "metadata": {},
   "outputs": [],
   "source": [
    "#### add the parsed data"
   ]
  }
 ],
 "metadata": {
  "kernelspec": {
   "display_name": "w207",
   "language": "python",
   "name": "w207"
  },
  "language_info": {
   "codemirror_mode": {
    "name": "ipython",
    "version": 3
   },
   "file_extension": ".py",
   "mimetype": "text/x-python",
   "name": "python",
   "nbconvert_exporter": "python",
   "pygments_lexer": "ipython3",
   "version": "3.10.8"
  }
 },
 "nbformat": 4,
 "nbformat_minor": 5
}
